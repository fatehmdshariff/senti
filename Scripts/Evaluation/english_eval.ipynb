{
 "cells": [
  {
   "cell_type": "code",
   "execution_count": 51,
   "id": "ee3890df",
   "metadata": {},
   "outputs": [
    {
     "data": {
      "text/plain": [
       "'  \\nimport joblib\\nfrom sklearn.metrics import accuracy_score, classification_report, confusion_matrix\\nimport matplotlib.pyplot as plt\\nimport seaborn as sns\\n\\n#Load Test data \\nX_test, y_test = joblib.load(\"Datasets/Split_Datasets/english_test.pkl\")\\n\\n#Load Model and Vectorizer\\nmodel = joblib.load(\"Models/eng_log_reg_model.pkl\")             # Logistic Regression model\\nvectorizer = joblib.load(\"Models/eng_tfidf_vectorizer.pkl\")     # TF-IDF vectorizer\\n\\n#Transform Test Data\\nX_test_vect = vectorizer.transform(X_test)\\n\\n#Predict \\ny_pred = model.predict(X_test_vect)\\n\\n#Metrics\\nacc = accuracy_score(y_test, y_pred)\\nprint(f\"\\n✅ Accuracy: {acc:.4f}\")\\n\\nprint(\"\\n📊 Classification Report:\")\\nprint(classification_report(y_test, y_pred, target_names=[\"Negative\", \"Positive\"]))\\n\\n#Confusion Matrix \\ncm = confusion_matrix(y_test, y_pred)\\n\\n#Plot Confusion Matrix \\nplt.figure(figsize=(6, 5))\\nsns.heatmap(cm, annot=True, fmt=\"d\", cmap=\"Blues\", xticklabels=[\"Negative\", \"Positive\"], yticklabels=[\"Negative\", \"Positive\"])\\nplt.title(\"Confusion Matrix - English Sentiment Model\")\\nplt.xlabel(\"Predicted\")\\nplt.ylabel(\"Actual\")\\nplt.tight_layout()\\nplt.show()\\n\\n'"
      ]
     },
     "execution_count": 51,
     "metadata": {},
     "output_type": "execute_result"
    }
   ],
   "source": [
    "\"\"\"  \n",
    "import joblib\n",
    "from sklearn.metrics import accuracy_score, classification_report, confusion_matrix\n",
    "import matplotlib.pyplot as plt\n",
    "import seaborn as sns\n",
    "\n",
    "#Load Test data \n",
    "X_test, y_test = joblib.load(\"Datasets/Split_Datasets/english_test.pkl\")\n",
    "\n",
    "#Load Model and Vectorizer\n",
    "model = joblib.load(\"Models/eng_log_reg_model.pkl\")             # Logistic Regression model\n",
    "vectorizer = joblib.load(\"Models/eng_tfidf_vectorizer.pkl\")     # TF-IDF vectorizer\n",
    "\n",
    "#Transform Test Data\n",
    "X_test_vect = vectorizer.transform(X_test)\n",
    "\n",
    "#Predict \n",
    "y_pred = model.predict(X_test_vect)\n",
    "\n",
    "#Metrics\n",
    "acc = accuracy_score(y_test, y_pred)\n",
    "print(f\"\\n✅ Accuracy: {acc:.4f}\")\n",
    "\n",
    "print(\"\\n📊 Classification Report:\")\n",
    "print(classification_report(y_test, y_pred, target_names=[\"Negative\", \"Positive\"]))\n",
    "\n",
    "#Confusion Matrix \n",
    "cm = confusion_matrix(y_test, y_pred)\n",
    "\n",
    "#Plot Confusion Matrix \n",
    "plt.figure(figsize=(6, 5))\n",
    "sns.heatmap(cm, annot=True, fmt=\"d\", cmap=\"Blues\", xticklabels=[\"Negative\", \"Positive\"], yticklabels=[\"Negative\", \"Positive\"])\n",
    "plt.title(\"Confusion Matrix - English Sentiment Model\")\n",
    "plt.xlabel(\"Predicted\")\n",
    "plt.ylabel(\"Actual\")\n",
    "plt.tight_layout()\n",
    "plt.show()\n",
    "\n",
    "\"\"\""
   ]
  },
  {
   "cell_type": "code",
   "execution_count": 52,
   "id": "ee02c7ee",
   "metadata": {},
   "outputs": [],
   "source": [
    "import joblib\n",
    "import matplotlib.pyplot as plt\n",
    "import seaborn as sns\n",
    "from sklearn.metrics import accuracy_score, classification_report, confusion_matrix\n",
    "\n",
    "\n"
   ]
  },
  {
   "cell_type": "code",
   "execution_count": 53,
   "id": "46a7ed63",
   "metadata": {},
   "outputs": [
    {
     "name": "stderr",
     "output_type": "stream",
     "text": [
      "<>:1: SyntaxWarning: invalid escape sequence '\\P'\n",
      "<>:1: SyntaxWarning: invalid escape sequence '\\P'\n",
      "C:\\Users\\fateh\\AppData\\Local\\Temp\\ipykernel_3000\\2519563467.py:1: SyntaxWarning: invalid escape sequence '\\P'\n",
      "  X_test, y_test = joblib.load(\"D:\\Projects_25\\Sentiment_analysis\\senti\\Datasets\\Split_Datasets\\english_test.pkl\")\n"
     ]
    }
   ],
   "source": [
    "X_test, y_test = joblib.load(\"D:\\Projects_25\\Sentiment_analysis\\senti\\Datasets\\Split_Datasets\\english_test.pkl\")\n",
    "X_test = list(map(str, X_test))  # Ensures each item is a proper string\n"
   ]
  },
  {
   "cell_type": "code",
   "execution_count": 54,
   "id": "7cba846d",
   "metadata": {},
   "outputs": [
    {
     "name": "stderr",
     "output_type": "stream",
     "text": [
      "<>:1: SyntaxWarning: invalid escape sequence '\\P'\n",
      "<>:2: SyntaxWarning: invalid escape sequence '\\P'\n",
      "<>:3: SyntaxWarning: invalid escape sequence '\\P'\n",
      "<>:1: SyntaxWarning: invalid escape sequence '\\P'\n",
      "<>:2: SyntaxWarning: invalid escape sequence '\\P'\n",
      "<>:3: SyntaxWarning: invalid escape sequence '\\P'\n",
      "C:\\Users\\fateh\\AppData\\Local\\Temp\\ipykernel_3000\\1037046161.py:1: SyntaxWarning: invalid escape sequence '\\P'\n",
      "  model_lr = joblib.load(\"D:\\Projects_25\\Sentiment_analysis\\senti\\Models\\eng_log_reg_model.pkl\")\n",
      "C:\\Users\\fateh\\AppData\\Local\\Temp\\ipykernel_3000\\1037046161.py:2: SyntaxWarning: invalid escape sequence '\\P'\n",
      "  model_nb = joblib.load(\"D:\\Projects_25\\Sentiment_analysis\\senti\\Models\\eng_n_b_model.pkl\")\n",
      "C:\\Users\\fateh\\AppData\\Local\\Temp\\ipykernel_3000\\1037046161.py:3: SyntaxWarning: invalid escape sequence '\\P'\n",
      "  vectorizer = joblib.load(\"D:\\Projects_25\\Sentiment_analysis\\senti\\Models\\eng_tfidf_vectorizer.pkl\")\n"
     ]
    }
   ],
   "source": [
    "model_lr = joblib.load(\"D:\\Projects_25\\Sentiment_analysis\\senti\\Models\\eng_log_reg_model.pkl\") \n",
    "model_nb = joblib.load(\"D:\\Projects_25\\Sentiment_analysis\\senti\\Models\\eng_n_b_model.pkl\")\n",
    "vectorizer = joblib.load(\"D:\\Projects_25\\Sentiment_analysis\\senti\\Models\\eng_tfidf_vectorizer.pkl\")"
   ]
  },
  {
   "cell_type": "code",
   "execution_count": 55,
   "id": "11e28a8f",
   "metadata": {},
   "outputs": [],
   "source": [
    "X_test_vect = vectorizer.transform(X_test)\n",
    "\n",
    "y_pred_lr = model_lr.predict(X_test_vect)\n",
    "\n",
    "y_pred_nb = model_nb.predict(X_test_vect)"
   ]
  },
  {
   "cell_type": "code",
   "execution_count": 56,
   "id": "2b71deec",
   "metadata": {},
   "outputs": [
    {
     "name": "stdout",
     "output_type": "stream",
     "text": [
      "THe Accuracy of Logistic Regression Model is: 77.409375% \n",
      "\n",
      "The Classification Report for Logistic Regression Model is \n",
      "\n",
      "              precision    recall  f1-score   support\n",
      "\n",
      "    Negative       0.79      0.76      0.77     48027\n",
      "    positive       0.76      0.79      0.78     47973\n",
      "\n",
      "    accuracy                           0.77     96000\n",
      "   macro avg       0.77      0.77      0.77     96000\n",
      "weighted avg       0.77      0.77      0.77     96000\n",
      "\n",
      "THe Accuracy of Naive Bayes Model is: 76.04062499999999% \n",
      "\n",
      "The Classification Report for Naive Bayes Model is \n",
      "\n",
      "              precision    recall  f1-score   support\n",
      "\n",
      "    Negative       0.76      0.76      0.76     48027\n",
      "    positive       0.76      0.76      0.76     47973\n",
      "\n",
      "    accuracy                           0.76     96000\n",
      "   macro avg       0.76      0.76      0.76     96000\n",
      "weighted avg       0.76      0.76      0.76     96000\n",
      "\n"
     ]
    }
   ],
   "source": [
    "acc_lr = accuracy_score(y_test, y_pred_lr)\n",
    "acc_nb = accuracy_score(y_test, y_pred_nb)\n",
    "\n",
    "print(f\"THe Accuracy of Logistic Regression Model is: {acc_lr*100}% \\n\")\n",
    "\n",
    "print(\"The Classification Report for Logistic Regression Model is \\n\")\n",
    "print(classification_report(y_test, y_pred_lr, target_names=[\"Negative\", \"positive\"]))\n",
    "\n",
    "print(f\"THe Accuracy of Naive Bayes Model is: {acc_nb*100}% \\n\")\n",
    "\n",
    "print(\"The Classification Report for Naive Bayes Model is \\n\")\n",
    "print(classification_report(y_test, y_pred_nb, target_names=[\"Negative\", \"positive\"]))\n",
    "\n"
   ]
  },
  {
   "cell_type": "code",
   "execution_count": 57,
   "id": "961afb84",
   "metadata": {},
   "outputs": [
    {
     "data": {
      "image/png": "[encoded data removed]",
      "text/plain": [
       "<Figure size 1200x500 with 4 Axes>"
      ]
     },
     "metadata": {},
     "output_type": "display_data"
    }
   ],
   "source": [
    "import matplotlib.pyplot as plt\n",
    "import seaborn as sns\n",
    "from sklearn.metrics import confusion_matrix\n",
    "\n",
    "# Compute confusion matrices\n",
    "cm_lr = confusion_matrix(y_test, y_pred_lr)\n",
    "cm_nb = confusion_matrix(y_test, y_pred_nb)\n",
    "\n",
    "# Plot side-by-side\n",
    "fig, axes = plt.subplots(1, 2, figsize=(12, 5))\n",
    "\n",
    "# Logistic Regression Confusion Matrix\n",
    "sns.heatmap(cm_lr, annot=True, fmt='d', cmap='Blues',\n",
    "            xticklabels=['Negative', 'Positive'],\n",
    "            yticklabels=['Negative', 'Positive'],\n",
    "            ax=axes[0])\n",
    "axes[0].set_title(\"Logistic Regression\")\n",
    "axes[0].set_xlabel(\"Predicted\")\n",
    "axes[0].set_ylabel(\"Actual\")\n",
    "\n",
    "# Naive Bayes Confusion Matrix\n",
    "sns.heatmap(cm_nb, annot=True, fmt='d', cmap='Greens',\n",
    "            xticklabels=['Negative', 'Positive'],\n",
    "            yticklabels=['Negative', 'Positive'],\n",
    "            ax=axes[1])\n",
    "axes[1].set_title(\"Naive Bayes\")\n",
    "axes[1].set_xlabel(\"Predicted\")\n",
    "axes[1].set_ylabel(\"\")\n",
    "\n",
    "plt.tight_layout()\n",
    "plt.show()\n"
   ]
  },
  {
   "cell_type": "code",
   "execution_count": null,
   "id": "2ee35f4f",
   "metadata": {},
   "outputs": [],
   "source": []
  },
  {
   "cell_type": "markdown",
   "id": "6d52dec3",
   "metadata": {},
   "source": []
  },
  {
   "cell_type": "code",
   "execution_count": null,
   "id": "b2192b30",
   "metadata": {},
   "outputs": [],
   "source": []
  }
 ],
 "metadata": {
  "kernelspec": {
   "display_name": "venv_senti_2",
   "language": "python",
   "name": "python3"
  },
  "language_info": {
   "codemirror_mode": {
    "name": "ipython",
    "version": 3
   },
   "file_extension": ".py",
   "mimetype": "text/x-python",
   "name": "python",
   "nbconvert_exporter": "python",
   "pygments_lexer": "ipython3",
   "version": "3.12.3"
  }
 },
 "nbformat": 4,
 "nbformat_minor": 5
}
